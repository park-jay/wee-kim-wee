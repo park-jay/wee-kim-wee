{
 "cells": [
  {
   "cell_type": "code",
   "execution_count": 1,
   "id": "e2a9641b",
   "metadata": {},
   "outputs": [],
   "source": [
    "import pytesseract\n",
    "import os\n",
    "from PIL import Image"
   ]
  },
  {
   "cell_type": "code",
   "execution_count": 3,
   "id": "f38cad69",
   "metadata": {},
   "outputs": [
    {
     "data": {
      "text/plain": [
       "'/Users/mstudio/repository/research/wee-kim-wee'"
      ]
     },
     "execution_count": 3,
     "metadata": {},
     "output_type": "execute_result"
    }
   ],
   "source": [
    "os.getcwd()"
   ]
  },
  {
   "cell_type": "code",
   "execution_count": 11,
   "id": "b770cf63",
   "metadata": {},
   "outputs": [],
   "source": [
    "for file in os.listdir('../../data/wee-kim-wee/scan/combined/'):\n",
    "    if file.endswith('.png'):\n",
    "        image_path = os.path.join('../../data/wee-kim-wee/scan/combined/', file)\n",
    "        image = Image.open(image_path)\n",
    "        text = pytesseract.image_to_string(image, lang='eng')\n",
    "        with open('../../data/wee-kim-wee/pytesseract/combined/'+file.replace('.png','')+'_pytesseract'+'.txt', 'w') as f:\n",
    "            f.write(text)\n",
    "            f.close()"
   ]
  }
 ],
 "metadata": {
  "kernelspec": {
   "display_name": "Python 3",
   "language": "python",
   "name": "python3"
  },
  "language_info": {
   "codemirror_mode": {
    "name": "ipython",
    "version": 3
   },
   "file_extension": ".py",
   "mimetype": "text/x-python",
   "name": "python",
   "nbconvert_exporter": "python",
   "pygments_lexer": "ipython3",
   "version": "3.11.10"
  }
 },
 "nbformat": 4,
 "nbformat_minor": 5
}
