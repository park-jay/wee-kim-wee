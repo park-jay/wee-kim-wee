{
 "cells": [
  {
   "cell_type": "code",
   "execution_count": 17,
   "id": "eef772b3",
   "metadata": {},
   "outputs": [],
   "source": [
    "import ollama \n",
    "import os\n",
    "from natsort import natsorted\n",
    "from pprint import pprint"
   ]
  },
  {
   "cell_type": "code",
   "execution_count": null,
   "id": "866e3f53",
   "metadata": {},
   "outputs": [
    {
     "name": "stdout",
     "output_type": "stream",
     "text": [
      "combined-01_pytesseract_gemma3.txt\n",
      "combined-02_pytesseract_gemma3.txt\n",
      "combined-03_pytesseract_gemma3.txt\n",
      "combined-04_pytesseract_gemma3.txt\n",
      "combined-05_pytesseract_gemma3.txt\n",
      "combined-06_pytesseract_gemma3.txt\n",
      "combined-07_pytesseract_gemma3.txt\n",
      "combined-08_pytesseract_gemma3.txt\n",
      "combined-09_pytesseract_gemma3.txt\n",
      "combined-10_pytesseract_gemma3.txt\n",
      "combined-11_pytesseract_gemma3.txt\n",
      "combined-12_pytesseract_gemma3.txt\n"
     ]
    }
   ],
   "source": [
    "for file in natsorted(os.listdir('../../data/wee-kim-wee/pytesseract/combined')):\n",
    "    if not file.startswith('.'):\n",
    "        chapter_list=[]\n",
    "        with open(os.path.join('../../data/wee-kim-wee/pytesseract/combined', file), 'r') as f:\n",
    "            text = f.read()\n",
    "            f.close()\n",
    "        model_name='gemma3:27b'\n",
    "        response=ollama.chat(\n",
    "            # model='llama3.1:latest',\n",
    "            # model='deepseek-llm:7b',\n",
    "            model=model_name,\n",
    "            messages=[{\n",
    "                'role':'system',\n",
    "                'content':'Correct OCR errors such as hyphens (e.g., change af- ter to after) while preserving original words. \\\\ \\\n",
    "                Do **not** remove the title and page number from the text.'\n",
    "            },\n",
    "            {\n",
    "                'role':'user',\n",
    "                'content':text\n",
    "            }],\n",
    "            stream=False)\n",
    "        # file_name=file.split('.')[0]+'-llama.txt'\n",
    "        file_name=file.split('.')[0]+'_'+model_name.split(':')[0]+'.txt'\n",
    "        with open(os.path.join('../../data/wee-kim-wee/pytesseract/combined_corrected', file_name), 'w') as w:\n",
    "            w.write(response['message']['content'])\n",
    "            w.close()\n",
    "        print(file_name)"
   ]
  }
 ],
 "metadata": {
  "kernelspec": {
   "display_name": "Python 3",
   "language": "python",
   "name": "python3"
  },
  "language_info": {
   "codemirror_mode": {
    "name": "ipython",
    "version": 3
   },
   "file_extension": ".py",
   "mimetype": "text/x-python",
   "name": "python",
   "nbconvert_exporter": "python",
   "pygments_lexer": "ipython3",
   "version": "3.11.10"
  }
 },
 "nbformat": 4,
 "nbformat_minor": 5
}
